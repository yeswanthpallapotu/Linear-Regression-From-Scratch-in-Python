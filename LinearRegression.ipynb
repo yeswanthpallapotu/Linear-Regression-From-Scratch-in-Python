{
 "cells": [
  {
   "cell_type": "markdown",
   "metadata": {},
   "source": [
    "## Multiple Linear Regression From Scratch\n",
    "We often wonder how the regression coefficients are calculated using the 'fit' function in 'sklearn' or 'OLS' in                'statsmodels'. This notebook finds the coefficients from (XT.X)-1.XT.Y and compares them with the ones obtained using          sklearn, statsmodels libraries in Python.\n",
    "   \n",
    "Note: The models below are not optimized for performance i.e. this code is only intended to demo how to find the regression coefficients without the using built in functions  \n"
   ]
  },
  {
   "cell_type": "code",
   "execution_count": 3,
   "metadata": {},
   "outputs": [],
   "source": [
    "# Import all the required libraries\n",
    "import pandas as pd\n",
    "import numpy as np\n",
    "import matplotlib.pyplot as plt\n",
    "from sklearn import linear_model\n",
    "from statsmodels.regression.linear_model import OLS\n",
    "from numpy.linalg import inv"
   ]
  },
  {
   "cell_type": "code",
   "execution_count": 23,
   "metadata": {},
   "outputs": [
    {
     "data": {
      "text/html": [
       "<div>\n",
       "<style scoped>\n",
       "    .dataframe tbody tr th:only-of-type {\n",
       "        vertical-align: middle;\n",
       "    }\n",
       "\n",
       "    .dataframe tbody tr th {\n",
       "        vertical-align: top;\n",
       "    }\n",
       "\n",
       "    .dataframe thead th {\n",
       "        text-align: right;\n",
       "    }\n",
       "</style>\n",
       "<table border=\"1\" class=\"dataframe\">\n",
       "  <thead>\n",
       "    <tr style=\"text-align: right;\">\n",
       "      <th></th>\n",
       "      <th>GPA</th>\n",
       "      <th>Miles from Home</th>\n",
       "      <th>College</th>\n",
       "      <th>Accommodations</th>\n",
       "      <th>Years Off</th>\n",
       "      <th>Part-Time Work Hours</th>\n",
       "      <th>Attends Office Hours</th>\n",
       "      <th>High School GPA</th>\n",
       "      <th>Unnamed: 8</th>\n",
       "    </tr>\n",
       "  </thead>\n",
       "  <tbody>\n",
       "    <tr>\n",
       "      <th>0</th>\n",
       "      <td>0.73</td>\n",
       "      <td>253</td>\n",
       "      <td>Social Sciences</td>\n",
       "      <td>Dorm</td>\n",
       "      <td>4</td>\n",
       "      <td>35</td>\n",
       "      <td>Sometimes</td>\n",
       "      <td>3.23</td>\n",
       "      <td>NaN</td>\n",
       "    </tr>\n",
       "    <tr>\n",
       "      <th>1</th>\n",
       "      <td>1.60</td>\n",
       "      <td>143</td>\n",
       "      <td>Social Sciences</td>\n",
       "      <td>Dorm</td>\n",
       "      <td>5</td>\n",
       "      <td>30</td>\n",
       "      <td>Never</td>\n",
       "      <td>2.35</td>\n",
       "      <td>NaN</td>\n",
       "    </tr>\n",
       "    <tr>\n",
       "      <th>2</th>\n",
       "      <td>2.17</td>\n",
       "      <td>171</td>\n",
       "      <td>Social Sciences</td>\n",
       "      <td>Dorm</td>\n",
       "      <td>0</td>\n",
       "      <td>25</td>\n",
       "      <td>Never</td>\n",
       "      <td>3.95</td>\n",
       "      <td>NaN</td>\n",
       "    </tr>\n",
       "    <tr>\n",
       "      <th>3</th>\n",
       "      <td>1.02</td>\n",
       "      <td>332</td>\n",
       "      <td>Sciences</td>\n",
       "      <td>Off-campus</td>\n",
       "      <td>5</td>\n",
       "      <td>30</td>\n",
       "      <td>Sometimes</td>\n",
       "      <td>3.44</td>\n",
       "      <td>NaN</td>\n",
       "    </tr>\n",
       "    <tr>\n",
       "      <th>4</th>\n",
       "      <td>3.14</td>\n",
       "      <td>112</td>\n",
       "      <td>Business</td>\n",
       "      <td>Dorm</td>\n",
       "      <td>0</td>\n",
       "      <td>25</td>\n",
       "      <td>Sometimes</td>\n",
       "      <td>3.20</td>\n",
       "      <td>NaN</td>\n",
       "    </tr>\n",
       "  </tbody>\n",
       "</table>\n",
       "</div>"
      ],
      "text/plain": [
       "    GPA  Miles from Home          College Accommodations  Years Off  \\\n",
       "0  0.73              253  Social Sciences           Dorm          4   \n",
       "1  1.60              143  Social Sciences           Dorm          5   \n",
       "2  2.17              171  Social Sciences           Dorm          0   \n",
       "3  1.02              332         Sciences     Off-campus          5   \n",
       "4  3.14              112         Business           Dorm          0   \n",
       "\n",
       "   Part-Time Work Hours Attends Office Hours  High School GPA  Unnamed: 8  \n",
       "0                    35            Sometimes             3.23         NaN  \n",
       "1                    30                Never             2.35         NaN  \n",
       "2                    25                Never             3.95         NaN  \n",
       "3                    30            Sometimes             3.44         NaN  \n",
       "4                    25            Sometimes             3.20         NaN  "
      ]
     },
     "execution_count": 23,
     "metadata": {},
     "output_type": "execute_result"
    }
   ],
   "source": [
    "# Import the dataset\n",
    "# This dataset contains GPAs of 100 students and other variables such as college, work hours etc.. \n",
    "data=pd.read_csv(\"D:/Excel sheets/Freshmen1.csv\")\n",
    "# Display top 5 records\n",
    "df.head()"
   ]
  },
  {
   "cell_type": "code",
   "execution_count": 8,
   "metadata": {},
   "outputs": [
    {
     "data": {
      "text/plain": [
       "GPA                     False\n",
       "Miles from Home         False\n",
       "College                 False\n",
       "Accommodations          False\n",
       "Years Off               False\n",
       "Part-Time Work Hours    False\n",
       "Attends Office Hours    False\n",
       "High School GPA         False\n",
       "Unnamed: 8               True\n",
       "dtype: bool"
      ]
     },
     "execution_count": 8,
     "metadata": {},
     "output_type": "execute_result"
    }
   ],
   "source": [
    "# Check if there are any null values in the dataframe\n",
    "data.isnull().any()\n",
    "# There are no null values in the data as shown below"
   ]
  },
  {
   "cell_type": "code",
   "execution_count": 24,
   "metadata": {},
   "outputs": [
    {
     "data": {
      "text/plain": [
       "GPA                     float64\n",
       "Miles from Home           int64\n",
       "College                  object\n",
       "Accommodations           object\n",
       "Years Off                 int64\n",
       "Part-Time Work Hours      int64\n",
       "Attends Office Hours     object\n",
       "High School GPA         float64\n",
       "dtype: object"
      ]
     },
     "execution_count": 24,
     "metadata": {},
     "output_type": "execute_result"
    }
   ],
   "source": [
    "# Cross check the data types of all the columns before modeling\n",
    "data.dtypes\n",
    "# 'College','Accommodations' and 'Attends Office Hours' need to be changed to categorical"
   ]
  },
  {
   "cell_type": "code",
   "execution_count": 26,
   "metadata": {},
   "outputs": [],
   "source": [
    "# Change the data types of the categorical variables accordingly\n",
    "data.College=data.College.astype('category')\n",
    "data.Accommodations=data.Accommodations.astype('category')\n",
    "data['Attends Office Hours']=data['Attends Office Hours'].astype('category')"
   ]
  },
  {
   "cell_type": "code",
   "execution_count": 28,
   "metadata": {},
   "outputs": [
    {
     "data": {
      "text/plain": [
       "GPA                      float64\n",
       "Miles from Home            int64\n",
       "College                 category\n",
       "Accommodations          category\n",
       "Years Off                  int64\n",
       "Part-Time Work Hours       int64\n",
       "Attends Office Hours    category\n",
       "High School GPA          float64\n",
       "dtype: object"
      ]
     },
     "execution_count": 28,
     "metadata": {},
     "output_type": "execute_result"
    }
   ],
   "source": [
    "data.dtypes"
   ]
  },
  {
   "cell_type": "code",
   "execution_count": 27,
   "metadata": {},
   "outputs": [
    {
     "data": {
      "text/html": [
       "<div>\n",
       "<style scoped>\n",
       "    .dataframe tbody tr th:only-of-type {\n",
       "        vertical-align: middle;\n",
       "    }\n",
       "\n",
       "    .dataframe tbody tr th {\n",
       "        vertical-align: top;\n",
       "    }\n",
       "\n",
       "    .dataframe thead th {\n",
       "        text-align: right;\n",
       "    }\n",
       "</style>\n",
       "<table border=\"1\" class=\"dataframe\">\n",
       "  <thead>\n",
       "    <tr style=\"text-align: right;\">\n",
       "      <th></th>\n",
       "      <th>GPA</th>\n",
       "      <th>Intercept</th>\n",
       "      <th>Miles from Home</th>\n",
       "      <th>Years Off</th>\n",
       "      <th>Part-Time Work Hours</th>\n",
       "      <th>High School GPA</th>\n",
       "      <th>College_Engineering</th>\n",
       "      <th>College_Liberal Arts</th>\n",
       "      <th>College_Sciences</th>\n",
       "      <th>College_Social Sciences</th>\n",
       "      <th>Accommodations_Off-campus</th>\n",
       "      <th>Accommodations_Other</th>\n",
       "      <th>Attends Office Hours_Regularly</th>\n",
       "      <th>Attends Office Hours_Sometimes</th>\n",
       "    </tr>\n",
       "  </thead>\n",
       "  <tbody>\n",
       "    <tr>\n",
       "      <th>0</th>\n",
       "      <td>0.73</td>\n",
       "      <td>1</td>\n",
       "      <td>253</td>\n",
       "      <td>4</td>\n",
       "      <td>35</td>\n",
       "      <td>3.23</td>\n",
       "      <td>0</td>\n",
       "      <td>0</td>\n",
       "      <td>0</td>\n",
       "      <td>1</td>\n",
       "      <td>0</td>\n",
       "      <td>0</td>\n",
       "      <td>0</td>\n",
       "      <td>1</td>\n",
       "    </tr>\n",
       "    <tr>\n",
       "      <th>1</th>\n",
       "      <td>1.60</td>\n",
       "      <td>1</td>\n",
       "      <td>143</td>\n",
       "      <td>5</td>\n",
       "      <td>30</td>\n",
       "      <td>2.35</td>\n",
       "      <td>0</td>\n",
       "      <td>0</td>\n",
       "      <td>0</td>\n",
       "      <td>1</td>\n",
       "      <td>0</td>\n",
       "      <td>0</td>\n",
       "      <td>0</td>\n",
       "      <td>0</td>\n",
       "    </tr>\n",
       "    <tr>\n",
       "      <th>2</th>\n",
       "      <td>2.17</td>\n",
       "      <td>1</td>\n",
       "      <td>171</td>\n",
       "      <td>0</td>\n",
       "      <td>25</td>\n",
       "      <td>3.95</td>\n",
       "      <td>0</td>\n",
       "      <td>0</td>\n",
       "      <td>0</td>\n",
       "      <td>1</td>\n",
       "      <td>0</td>\n",
       "      <td>0</td>\n",
       "      <td>0</td>\n",
       "      <td>0</td>\n",
       "    </tr>\n",
       "    <tr>\n",
       "      <th>3</th>\n",
       "      <td>1.02</td>\n",
       "      <td>1</td>\n",
       "      <td>332</td>\n",
       "      <td>5</td>\n",
       "      <td>30</td>\n",
       "      <td>3.44</td>\n",
       "      <td>0</td>\n",
       "      <td>0</td>\n",
       "      <td>1</td>\n",
       "      <td>0</td>\n",
       "      <td>1</td>\n",
       "      <td>0</td>\n",
       "      <td>0</td>\n",
       "      <td>1</td>\n",
       "    </tr>\n",
       "    <tr>\n",
       "      <th>4</th>\n",
       "      <td>3.14</td>\n",
       "      <td>1</td>\n",
       "      <td>112</td>\n",
       "      <td>0</td>\n",
       "      <td>25</td>\n",
       "      <td>3.20</td>\n",
       "      <td>0</td>\n",
       "      <td>0</td>\n",
       "      <td>0</td>\n",
       "      <td>0</td>\n",
       "      <td>0</td>\n",
       "      <td>0</td>\n",
       "      <td>0</td>\n",
       "      <td>1</td>\n",
       "    </tr>\n",
       "  </tbody>\n",
       "</table>\n",
       "</div>"
      ],
      "text/plain": [
       "    GPA  Intercept  Miles from Home  Years Off  Part-Time Work Hours  \\\n",
       "0  0.73          1              253          4                    35   \n",
       "1  1.60          1              143          5                    30   \n",
       "2  2.17          1              171          0                    25   \n",
       "3  1.02          1              332          5                    30   \n",
       "4  3.14          1              112          0                    25   \n",
       "\n",
       "   High School GPA  College_Engineering  College_Liberal Arts  \\\n",
       "0             3.23                    0                     0   \n",
       "1             2.35                    0                     0   \n",
       "2             3.95                    0                     0   \n",
       "3             3.44                    0                     0   \n",
       "4             3.20                    0                     0   \n",
       "\n",
       "   College_Sciences  College_Social Sciences  Accommodations_Off-campus  \\\n",
       "0                 0                        1                          0   \n",
       "1                 0                        1                          0   \n",
       "2                 0                        1                          0   \n",
       "3                 1                        0                          1   \n",
       "4                 0                        0                          0   \n",
       "\n",
       "   Accommodations_Other  Attends Office Hours_Regularly  \\\n",
       "0                     0                               0   \n",
       "1                     0                               0   \n",
       "2                     0                               0   \n",
       "3                     0                               0   \n",
       "4                     0                               0   \n",
       "\n",
       "   Attends Office Hours_Sometimes  \n",
       "0                               1  \n",
       "1                               0  \n",
       "2                               0  \n",
       "3                               1  \n",
       "4                               1  "
      ]
     },
     "execution_count": 27,
     "metadata": {},
     "output_type": "execute_result"
    }
   ],
   "source": [
    "# Generate dummy values of the categorical variables and drop one (i.e. n-1 dummies for n categories)\n",
    "data_dummies=pd.get_dummies(data,drop_first=True)\n",
    "# The equation of a straight line is y=c+mx where c is the intercept. \n",
    "# When coverted to the matrix form the coefficient of the intercept needs to be 1. \n",
    "# Hence sticking 100 (length of the dataframe) ones to the dataframe\n",
    "data_dummies.insert(1,'Intercept',[1]*len(data_dummies))\n",
    "# Display top 5 records\n",
    "data_dummies.head()"
   ]
  },
  {
   "cell_type": "code",
   "execution_count": 29,
   "metadata": {},
   "outputs": [],
   "source": [
    "# Split the whole data into X and Y sets\n",
    "X_train=data_dummies.iloc[:,1:]\n",
    "Y_train=data_dummies.GPA"
   ]
  },
  {
   "cell_type": "code",
   "execution_count": 30,
   "metadata": {},
   "outputs": [
    {
     "data": {
      "text/html": [
       "<div>\n",
       "<style scoped>\n",
       "    .dataframe tbody tr th:only-of-type {\n",
       "        vertical-align: middle;\n",
       "    }\n",
       "\n",
       "    .dataframe tbody tr th {\n",
       "        vertical-align: top;\n",
       "    }\n",
       "\n",
       "    .dataframe thead th {\n",
       "        text-align: right;\n",
       "    }\n",
       "</style>\n",
       "<table border=\"1\" class=\"dataframe\">\n",
       "  <thead>\n",
       "    <tr style=\"text-align: right;\">\n",
       "      <th></th>\n",
       "      <th>Intercept</th>\n",
       "      <th>Miles from Home</th>\n",
       "      <th>Years Off</th>\n",
       "      <th>Part-Time Work Hours</th>\n",
       "      <th>High School GPA</th>\n",
       "      <th>College_Engineering</th>\n",
       "      <th>College_Liberal Arts</th>\n",
       "      <th>College_Sciences</th>\n",
       "      <th>College_Social Sciences</th>\n",
       "      <th>Accommodations_Off-campus</th>\n",
       "      <th>Accommodations_Other</th>\n",
       "      <th>Attends Office Hours_Regularly</th>\n",
       "      <th>Attends Office Hours_Sometimes</th>\n",
       "    </tr>\n",
       "  </thead>\n",
       "  <tbody>\n",
       "    <tr>\n",
       "      <th>0</th>\n",
       "      <td>1</td>\n",
       "      <td>253</td>\n",
       "      <td>4</td>\n",
       "      <td>35</td>\n",
       "      <td>3.23</td>\n",
       "      <td>0</td>\n",
       "      <td>0</td>\n",
       "      <td>0</td>\n",
       "      <td>1</td>\n",
       "      <td>0</td>\n",
       "      <td>0</td>\n",
       "      <td>0</td>\n",
       "      <td>1</td>\n",
       "    </tr>\n",
       "    <tr>\n",
       "      <th>1</th>\n",
       "      <td>1</td>\n",
       "      <td>143</td>\n",
       "      <td>5</td>\n",
       "      <td>30</td>\n",
       "      <td>2.35</td>\n",
       "      <td>0</td>\n",
       "      <td>0</td>\n",
       "      <td>0</td>\n",
       "      <td>1</td>\n",
       "      <td>0</td>\n",
       "      <td>0</td>\n",
       "      <td>0</td>\n",
       "      <td>0</td>\n",
       "    </tr>\n",
       "    <tr>\n",
       "      <th>2</th>\n",
       "      <td>1</td>\n",
       "      <td>171</td>\n",
       "      <td>0</td>\n",
       "      <td>25</td>\n",
       "      <td>3.95</td>\n",
       "      <td>0</td>\n",
       "      <td>0</td>\n",
       "      <td>0</td>\n",
       "      <td>1</td>\n",
       "      <td>0</td>\n",
       "      <td>0</td>\n",
       "      <td>0</td>\n",
       "      <td>0</td>\n",
       "    </tr>\n",
       "    <tr>\n",
       "      <th>3</th>\n",
       "      <td>1</td>\n",
       "      <td>332</td>\n",
       "      <td>5</td>\n",
       "      <td>30</td>\n",
       "      <td>3.44</td>\n",
       "      <td>0</td>\n",
       "      <td>0</td>\n",
       "      <td>1</td>\n",
       "      <td>0</td>\n",
       "      <td>1</td>\n",
       "      <td>0</td>\n",
       "      <td>0</td>\n",
       "      <td>1</td>\n",
       "    </tr>\n",
       "    <tr>\n",
       "      <th>4</th>\n",
       "      <td>1</td>\n",
       "      <td>112</td>\n",
       "      <td>0</td>\n",
       "      <td>25</td>\n",
       "      <td>3.20</td>\n",
       "      <td>0</td>\n",
       "      <td>0</td>\n",
       "      <td>0</td>\n",
       "      <td>0</td>\n",
       "      <td>0</td>\n",
       "      <td>0</td>\n",
       "      <td>0</td>\n",
       "      <td>1</td>\n",
       "    </tr>\n",
       "  </tbody>\n",
       "</table>\n",
       "</div>"
      ],
      "text/plain": [
       "   Intercept  Miles from Home  Years Off  Part-Time Work Hours  \\\n",
       "0          1              253          4                    35   \n",
       "1          1              143          5                    30   \n",
       "2          1              171          0                    25   \n",
       "3          1              332          5                    30   \n",
       "4          1              112          0                    25   \n",
       "\n",
       "   High School GPA  College_Engineering  College_Liberal Arts  \\\n",
       "0             3.23                    0                     0   \n",
       "1             2.35                    0                     0   \n",
       "2             3.95                    0                     0   \n",
       "3             3.44                    0                     0   \n",
       "4             3.20                    0                     0   \n",
       "\n",
       "   College_Sciences  College_Social Sciences  Accommodations_Off-campus  \\\n",
       "0                 0                        1                          0   \n",
       "1                 0                        1                          0   \n",
       "2                 0                        1                          0   \n",
       "3                 1                        0                          1   \n",
       "4                 0                        0                          0   \n",
       "\n",
       "   Accommodations_Other  Attends Office Hours_Regularly  \\\n",
       "0                     0                               0   \n",
       "1                     0                               0   \n",
       "2                     0                               0   \n",
       "3                     0                               0   \n",
       "4                     0                               0   \n",
       "\n",
       "   Attends Office Hours_Sometimes  \n",
       "0                               1  \n",
       "1                               0  \n",
       "2                               0  \n",
       "3                               1  \n",
       "4                               1  "
      ]
     },
     "execution_count": 30,
     "metadata": {},
     "output_type": "execute_result"
    }
   ],
   "source": [
    "# Display top 5 records from train data \n",
    "X_train.head()"
   ]
  },
  {
   "cell_type": "code",
   "execution_count": 31,
   "metadata": {},
   "outputs": [],
   "source": [
    "# fit sklearn model\n",
    "model_sklearn=linear_model.LinearRegression().fit(X_train,Y_train)"
   ]
  },
  {
   "cell_type": "code",
   "execution_count": 32,
   "metadata": {},
   "outputs": [
    {
     "data": {
      "text/plain": [
       "array([ 0.        , -0.00104171,  0.03850818, -0.00081253,  0.23876306,\n",
       "       -0.12119174,  0.0338269 , -0.20859109,  0.10459972, -0.24059864,\n",
       "       -0.30758173,  0.741165  ,  0.13650608])"
      ]
     },
     "execution_count": 32,
     "metadata": {},
     "output_type": "execute_result"
    }
   ],
   "source": [
    "# Coefficients from the sklearn model\n",
    "model_sklearn.coef_"
   ]
  },
  {
   "cell_type": "code",
   "execution_count": 33,
   "metadata": {},
   "outputs": [
    {
     "data": {
      "text/plain": [
       "1.5950254174249923"
      ]
     },
     "execution_count": 33,
     "metadata": {},
     "output_type": "execute_result"
    }
   ],
   "source": [
    "# Intercept from the sklearn model\n",
    "model_sklearn.intercept_"
   ]
  },
  {
   "cell_type": "code",
   "execution_count": 34,
   "metadata": {},
   "outputs": [
    {
     "data": {
      "text/plain": [
       "Intercept                         1.595025\n",
       "Miles from Home                  -0.001042\n",
       "Years Off                         0.038508\n",
       "Part-Time Work Hours             -0.000813\n",
       "High School GPA                   0.238763\n",
       "College_Engineering              -0.121192\n",
       "College_Liberal Arts              0.033827\n",
       "College_Sciences                 -0.208591\n",
       "College_Social Sciences           0.104600\n",
       "Accommodations_Off-campus        -0.240599\n",
       "Accommodations_Other             -0.307582\n",
       "Attends Office Hours_Regularly    0.741165\n",
       "Attends Office Hours_Sometimes    0.136506\n",
       "dtype: float64"
      ]
     },
     "execution_count": 34,
     "metadata": {},
     "output_type": "execute_result"
    }
   ],
   "source": [
    "# fit statsmodels model\n",
    "model_statsmodels=OLS(Y_train,X_train).fit()\n",
    "# Intercept and coefficients from OLS\n",
    "model_statsmodels.params"
   ]
  },
  {
   "cell_type": "markdown",
   "metadata": {},
   "source": [
    "### Model without using built in functions"
   ]
  },
  {
   "cell_type": "code",
   "execution_count": 35,
   "metadata": {},
   "outputs": [],
   "source": [
    "# Convert X and Model without using built in functionsY train sets to matrices\n",
    "A=np.array(X_train)\n",
    "b=np.array(Y_train)"
   ]
  },
  {
   "cell_type": "code",
   "execution_count": 36,
   "metadata": {},
   "outputs": [],
   "source": [
    "# Calculate coefficients from (XT.X)-1.XT.Y\n",
    "coefficients=inv(A.transpose().dot(A)).dot(A.transpose()).dot(b)"
   ]
  },
  {
   "cell_type": "code",
   "execution_count": 37,
   "metadata": {},
   "outputs": [
    {
     "data": {
      "text/plain": [
       "array([ 1.59502542e+00, -1.04171269e-03,  3.85081837e-02, -8.12525712e-04,\n",
       "        2.38763063e-01, -1.21191742e-01,  3.38268965e-02, -2.08591086e-01,\n",
       "        1.04599722e-01, -2.40598637e-01, -3.07581733e-01,  7.41165003e-01,\n",
       "        1.36506079e-01])"
      ]
     },
     "execution_count": 37,
     "metadata": {},
     "output_type": "execute_result"
    }
   ],
   "source": [
    "# Coefficients from the equation\n",
    "coefficients"
   ]
  },
  {
   "cell_type": "code",
   "execution_count": 38,
   "metadata": {},
   "outputs": [],
   "source": [
    "# Display all three functions' coefficients together\n",
    "model_sklearn.coef_[0]=model_sklearn.intercept_\n",
    "allcoeficients=pd.DataFrame({'Sklearn':model_sklearn.coef_,'OLS':model_statsmodels.params,\n",
    "                            'Equation':coefficients},index=model_statsmodels.params.index)"
   ]
  },
  {
   "cell_type": "code",
   "execution_count": 39,
   "metadata": {},
   "outputs": [
    {
     "data": {
      "text/html": [
       "<div>\n",
       "<style scoped>\n",
       "    .dataframe tbody tr th:only-of-type {\n",
       "        vertical-align: middle;\n",
       "    }\n",
       "\n",
       "    .dataframe tbody tr th {\n",
       "        vertical-align: top;\n",
       "    }\n",
       "\n",
       "    .dataframe thead th {\n",
       "        text-align: right;\n",
       "    }\n",
       "</style>\n",
       "<table border=\"1\" class=\"dataframe\">\n",
       "  <thead>\n",
       "    <tr style=\"text-align: right;\">\n",
       "      <th></th>\n",
       "      <th>Sklearn</th>\n",
       "      <th>OLS</th>\n",
       "      <th>Equation</th>\n",
       "    </tr>\n",
       "  </thead>\n",
       "  <tbody>\n",
       "    <tr>\n",
       "      <th>Intercept</th>\n",
       "      <td>1.595025</td>\n",
       "      <td>1.595025</td>\n",
       "      <td>1.595025</td>\n",
       "    </tr>\n",
       "    <tr>\n",
       "      <th>Miles from Home</th>\n",
       "      <td>-0.001042</td>\n",
       "      <td>-0.001042</td>\n",
       "      <td>-0.001042</td>\n",
       "    </tr>\n",
       "    <tr>\n",
       "      <th>Years Off</th>\n",
       "      <td>0.038508</td>\n",
       "      <td>0.038508</td>\n",
       "      <td>0.038508</td>\n",
       "    </tr>\n",
       "    <tr>\n",
       "      <th>Part-Time Work Hours</th>\n",
       "      <td>-0.000813</td>\n",
       "      <td>-0.000813</td>\n",
       "      <td>-0.000813</td>\n",
       "    </tr>\n",
       "    <tr>\n",
       "      <th>High School GPA</th>\n",
       "      <td>0.238763</td>\n",
       "      <td>0.238763</td>\n",
       "      <td>0.238763</td>\n",
       "    </tr>\n",
       "    <tr>\n",
       "      <th>College_Engineering</th>\n",
       "      <td>-0.121192</td>\n",
       "      <td>-0.121192</td>\n",
       "      <td>-0.121192</td>\n",
       "    </tr>\n",
       "    <tr>\n",
       "      <th>College_Liberal Arts</th>\n",
       "      <td>0.033827</td>\n",
       "      <td>0.033827</td>\n",
       "      <td>0.033827</td>\n",
       "    </tr>\n",
       "    <tr>\n",
       "      <th>College_Sciences</th>\n",
       "      <td>-0.208591</td>\n",
       "      <td>-0.208591</td>\n",
       "      <td>-0.208591</td>\n",
       "    </tr>\n",
       "    <tr>\n",
       "      <th>College_Social Sciences</th>\n",
       "      <td>0.104600</td>\n",
       "      <td>0.104600</td>\n",
       "      <td>0.104600</td>\n",
       "    </tr>\n",
       "    <tr>\n",
       "      <th>Accommodations_Off-campus</th>\n",
       "      <td>-0.240599</td>\n",
       "      <td>-0.240599</td>\n",
       "      <td>-0.240599</td>\n",
       "    </tr>\n",
       "    <tr>\n",
       "      <th>Accommodations_Other</th>\n",
       "      <td>-0.307582</td>\n",
       "      <td>-0.307582</td>\n",
       "      <td>-0.307582</td>\n",
       "    </tr>\n",
       "    <tr>\n",
       "      <th>Attends Office Hours_Regularly</th>\n",
       "      <td>0.741165</td>\n",
       "      <td>0.741165</td>\n",
       "      <td>0.741165</td>\n",
       "    </tr>\n",
       "    <tr>\n",
       "      <th>Attends Office Hours_Sometimes</th>\n",
       "      <td>0.136506</td>\n",
       "      <td>0.136506</td>\n",
       "      <td>0.136506</td>\n",
       "    </tr>\n",
       "  </tbody>\n",
       "</table>\n",
       "</div>"
      ],
      "text/plain": [
       "                                 Sklearn       OLS  Equation\n",
       "Intercept                       1.595025  1.595025  1.595025\n",
       "Miles from Home                -0.001042 -0.001042 -0.001042\n",
       "Years Off                       0.038508  0.038508  0.038508\n",
       "Part-Time Work Hours           -0.000813 -0.000813 -0.000813\n",
       "High School GPA                 0.238763  0.238763  0.238763\n",
       "College_Engineering            -0.121192 -0.121192 -0.121192\n",
       "College_Liberal Arts            0.033827  0.033827  0.033827\n",
       "College_Sciences               -0.208591 -0.208591 -0.208591\n",
       "College_Social Sciences         0.104600  0.104600  0.104600\n",
       "Accommodations_Off-campus      -0.240599 -0.240599 -0.240599\n",
       "Accommodations_Other           -0.307582 -0.307582 -0.307582\n",
       "Attends Office Hours_Regularly  0.741165  0.741165  0.741165\n",
       "Attends Office Hours_Sometimes  0.136506  0.136506  0.136506"
      ]
     },
     "execution_count": 39,
     "metadata": {},
     "output_type": "execute_result"
    }
   ],
   "source": [
    "# Coefficients from all the three models\n",
    "allcoeficients\n",
    "# All of them are exactly equal as you can see below"
   ]
  }
 ],
 "metadata": {
  "kernelspec": {
   "display_name": "Python 3",
   "language": "python",
   "name": "python3"
  },
  "language_info": {
   "codemirror_mode": {
    "name": "ipython",
    "version": 3
   },
   "file_extension": ".py",
   "mimetype": "text/x-python",
   "name": "python",
   "nbconvert_exporter": "python",
   "pygments_lexer": "ipython3",
   "version": "3.7.3"
  }
 },
 "nbformat": 4,
 "nbformat_minor": 2
}
